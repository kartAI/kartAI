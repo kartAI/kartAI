{
 "cells": [
  {
   "cell_type": "markdown",
   "metadata": {},
   "source": [
    "# Introduction to Geospatial AI"
   ]
  },
  {
   "cell_type": "code",
   "execution_count": 7,
   "metadata": {},
   "outputs": [
    {
     "name": "stdout",
     "output_type": "stream",
     "text": [
      "eager load hello\n"
     ]
    },
    {
     "ename": "AttributeError",
     "evalue": "'Namespace' object has no attribute 'training_dataset_name'",
     "output_type": "error",
     "traceback": [
      "\u001b[0;31m---------------------------------------------------------------------------\u001b[0m",
      "\u001b[0;31mAttributeError\u001b[0m                            Traceback (most recent call last)",
      "Cell \u001b[0;32mIn[7], line 4\u001b[0m\n\u001b[1;32m      1\u001b[0m \u001b[39mfrom\u001b[39;00m \u001b[39margparse\u001b[39;00m \u001b[39mimport\u001b[39;00m Namespace\n\u001b[1;32m      2\u001b[0m \u001b[39mfrom\u001b[39;00m \u001b[39mkartai\u001b[39;00m\u001b[39m.\u001b[39;00m\u001b[39mtools\u001b[39;00m\u001b[39m.\u001b[39;00m\u001b[39mcreate_training_data\u001b[39;00m \u001b[39mimport\u001b[39;00m main\n\u001b[0;32m----> 4\u001b[0m main(args\u001b[39m=\u001b[39;49mNamespace(eager_load\u001b[39m=\u001b[39;49m\u001b[39m\"\u001b[39;49m\u001b[39mhello\u001b[39;49m\u001b[39m\"\u001b[39;49m))\n",
      "File \u001b[0;32m~/norkart/kartAI/kartai/tools/create_training_data.py:300\u001b[0m, in \u001b[0;36mmain\u001b[0;34m(args)\u001b[0m\n\u001b[1;32m    298\u001b[0m \u001b[39mdef\u001b[39;00m \u001b[39mmain\u001b[39m(args):\n\u001b[1;32m    299\u001b[0m     \u001b[39mprint\u001b[39m(\u001b[39m\"\u001b[39m\u001b[39meager load\u001b[39m\u001b[39m\"\u001b[39m, args\u001b[39m.\u001b[39meager_load)\n\u001b[0;32m--> 300\u001b[0m     \u001b[39mprint\u001b[39m(args)\n\u001b[1;32m    301\u001b[0m     create_training_data(args\u001b[39m.\u001b[39mtraining_dataset_name, args\u001b[39m.\u001b[39mconfig_file, eager_load\u001b[39m=\u001b[39margs\u001b[39m.\u001b[39meager_load, region\u001b[39m=\u001b[39margs\u001b[39m.\u001b[39mregion,\n\u001b[1;32m    302\u001b[0m                          x_min\u001b[39m=\u001b[39margs\u001b[39m.\u001b[39mx_min, x_max\u001b[39m=\u001b[39margs\u001b[39m.\u001b[39mx_max, y_min\u001b[39m=\u001b[39margs\u001b[39m.\u001b[39my_min, y_max\u001b[39m=\u001b[39margs\u001b[39m.\u001b[39my_max,\n\u001b[1;32m    303\u001b[0m                          num_processes\u001b[39m=\u001b[39margs\u001b[39m.\u001b[39mnum_load_processes)\n",
      "\u001b[0;31mAttributeError\u001b[0m: 'Namespace' object has no attribute 'training_dataset_name'"
     ]
    }
   ],
   "source": [
    "from argparse import Namespace\n",
    "from kartai.tools.create_training_data import main\n",
    "\n",
    "main(args=Namespace(eager_load=\"hello\"))"
   ]
  }
 ],
 "metadata": {
  "kernelspec": {
   "display_name": "Python 3",
   "language": "python",
   "name": "python3"
  },
  "language_info": {
   "codemirror_mode": {
    "name": "ipython",
    "version": 3
   },
   "file_extension": ".py",
   "mimetype": "text/x-python",
   "name": "python",
   "nbconvert_exporter": "python",
   "pygments_lexer": "ipython3",
   "version": "3.9.17"
  },
  "orig_nbformat": 4
 },
 "nbformat": 4,
 "nbformat_minor": 2
}
