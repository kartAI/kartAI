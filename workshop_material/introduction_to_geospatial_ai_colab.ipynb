{
  "cells": [
    {
      "cell_type": "markdown",
      "metadata": {
        "id": "emBCk06ovP1q"
      },
      "source": [
        "# Introduction to Geospatial AI"
      ]
    },
    {
      "cell_type": "markdown",
      "metadata": {},
      "source": [
        "# Test\n",
        "Welcome to this workship about geospatial AI. In this workshop you will create training data from aerial images, before training and evaluating the machine learning models. "
      ]
    },
    {
      "cell_type": "code",
      "execution_count": null,
      "metadata": {
        "colab": {
          "base_uri": "https://localhost:8080/"
        },
        "id": "3fEENVoCvP1q",
        "outputId": "32b51360-456b-468f-de33-dc6c26a0eb55"
      },
      "outputs": [],
      "source": [
        "!git clone https://github.com/kartAI/kartAI.git\n",
        "\n",
        "!pip install focal_loss\n",
        "!pip install azure-storage-blob\n",
        "!pip install rasterio\n",
        "!pip install rasterstats"
      ]
    },
    {
      "cell_type": "code",
      "execution_count": null,
      "metadata": {
        "id": "LDdbVLf5vP1r"
      },
      "outputs": [],
      "source": [
        "import sys\n",
        "sys.path.insert(0,'/content/kartAI')"
      ]
    },
    {
      "cell_type": "code",
      "execution_count": null,
      "metadata": {
        "colab": {
          "base_uri": "https://localhost:8080/",
          "height": 1000
        },
        "id": "vAvL9gJ2vP1r",
        "outputId": "8be86582-9805-4289-d091-1c33c684e8b7"
      },
      "outputs": [],
      "source": [
        "from kartAI.kartai.tools.create_training_data import create_training_data\n",
        "\n",
        "create_training_data(training_dataset_name=\"test\", config_file_path=\"kartAI/config/dataset/bygg.json\", eager_load=True,\n",
        "                         confidence_threshold=None, eval_model_checkpoint=None,\n",
        "                         region=None, x_min=618296.0, x_max=623495.0, y_min=6668145.0, y_max=6672133.0,\n",
        "                         num_processes=None)"
      ]
    },
    {
      "cell_type": "code",
      "execution_count": null,
      "metadata": {
        "colab": {
          "base_uri": "https://localhost:8080/"
        },
        "id": "s07L5WvTJhLz",
        "outputId": "1b2ba046-e93b-4ec3-ca36-36bd2bc5eba6"
      },
      "outputs": [],
      "source": [
        "from kartAI.kartai.tools.train import train\n",
        "\n",
        "train_args = {\n",
        "        \"features\": 32,\n",
        "        \"depth\": 4,\n",
        "        \"optimizer\": \"RMSprop\",\n",
        "        \"batch_size\": 8,\n",
        "        \"model\": \"unet\",\n",
        "        \"loss\": \"binary_crossentropy\",\n",
        "        \"activation\": \"relu\",\n",
        "        \"epochs\": 1\n",
        "}\n",
        "\n",
        "\n",
        "train(checkpoint_name=\"some_checkpoint\",\n",
        "      dataset_name=[\"test\"],\n",
        "      input_generator_config_path=\"kartAI/config/ml_input_generator/ortofoto.json\",\n",
        "      save_model=False,\n",
        "      train_args=train_args,\n",
        "      checkpoint_to_finetune=False\n",
        ")\n"
      ]
    },
    {
      "cell_type": "code",
      "execution_count": null,
      "metadata": {
        "colab": {
          "background_save": true,
          "base_uri": "https://localhost:8080/"
        },
        "id": "3_aMcP6Njm3d",
        "outputId": "0874bd77-9ad4-4be9-b4ab-a5925bfd5593"
      },
      "outputs": [],
      "source": [
        "import os\n",
        "import json\n",
        "from kartAI.env import get_env_variable\n",
        "from kartAI.kartai.tools.predict import predict_and_evaluate\n",
        "\n",
        "created_datasets_dir = os.path.join(get_env_variable(\n",
        "    'created_datasets_directory'), \"test\")\n",
        "\n",
        "checkpoint_path = os.path.join(get_env_variable(\n",
        "    'trained_models_directory'), 'some_checkpoint.h5')\n",
        "\n",
        "with open(\"kartAI/config/ml_input_generator/ortofoto.json\", encoding=\"utf8\") as config:\n",
        "    datagenerator_config = json.load(config)\n",
        "\n",
        "predict_and_evaluate(\n",
        "    created_datasets_dir,\n",
        "    datagenerator_config,\n",
        "    \"some_checkpoint\",\n",
        "    True,\n",
        "    True\n",
        ")"
      ]
    }
  ],
  "metadata": {
    "colab": {
      "provenance": []
    },
    "kernelspec": {
      "display_name": "Python 3",
      "language": "python",
      "name": "python3"
    },
    "language_info": {
      "codemirror_mode": {
        "name": "ipython",
        "version": 3
      },
      "file_extension": ".py",
      "mimetype": "text/x-python",
      "name": "python",
      "nbconvert_exporter": "python",
      "pygments_lexer": "ipython3",
      "version": "3.9.17"
    }
  },
  "nbformat": 4,
  "nbformat_minor": 0
}
