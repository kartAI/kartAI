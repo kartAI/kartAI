{
  "cells": [
    {
      "cell_type": "markdown",
      "metadata": {
        "id": "emBCk06ovP1q"
      },
      "source": [
        "# Introduction to Geospatial AI"
      ]
    },
    {
      "cell_type": "markdown",
      "metadata": {},
      "source": [
        "# Intro\n",
        "Welcome to this workship about geospatial AI! In this workshop you will try to detect buildings from aerial images. This is done in three steps;\n",
        "\n",
        "1. Creating training data.\n",
        "2. Training machine learning models.\n",
        "3. Evaluating the trained models and predicting where buildings are in images the models haven't seen before. \n",
        "\n",
        "We will be using jupyter notebooks with Google Colab, but you don't need to have any experience with these in order to complete this workshop."
      ]
    },
    {
      "cell_type": "markdown",
      "metadata": {},
      "source": [
        "# Task 0\n",
        "\n",
        "But first, before we can do any of the fun stuff, we need to set up the environment properly. In order to do that follow the steps under;\n",
        "\n",
        "1. Create a Google account, for instance by creating a gmail account. Can be skipped if you already have a gmail account. Log into the account in your browser.\n",
        "2. Head over to https://colab.research.google.com/ and press on the `Github` tab. Search for `kartAI` user and select `kartAI/kartAI` repository. A notebook should appear. Press on this notebook and it should open a notebook in another tab.\n",
        "3. Create a copy of the notebook in your drive by saving it. Shortcut is `Ctrl + s` on Windows or `Cmd + s` on Mac.\n",
        "4. Change to a GPU runtime environment. In the top right corner choose `Change runtime type` and select `T4 GPU`.\n",
        "5. Insert secrets. # TODO: Mayhaps\n",
        "\n",
        "Nice! What's left now is to clone the git repo we are working with and adding it to the path in addition to installing some dependencies. To do this simply run the two cells below."
      ]
    },
    {
      "cell_type": "code",
      "execution_count": null,
      "metadata": {
        "colab": {
          "base_uri": "https://localhost:8080/"
        },
        "id": "3fEENVoCvP1q",
        "outputId": "32b51360-456b-468f-de33-dc6c26a0eb55"
      },
      "outputs": [],
      "source": [
        "!git clone https://github.com/kartAI/kartAI.git\n",
        "\n",
        "!pip install focal_loss\n",
        "!pip install azure-storage-blob\n",
        "!pip install rasterio\n",
        "!pip install rasterstats"
      ]
    },
    {
      "cell_type": "code",
      "execution_count": null,
      "metadata": {
        "id": "LDdbVLf5vP1r"
      },
      "outputs": [],
      "source": [
        "import sys\n",
        "sys.path.insert(0,'/content/kartAI')"
      ]
    },
    {
      "cell_type": "markdown",
      "metadata": {},
      "source": [
        "# Task 1 - Create training data\n",
        "In the first task we create the training data. This is done by selecting an area you want to train on. We then download aerial photos for that area in addition to data about all the existing \n",
        "\n",
        "https://geojson.io/"
      ]
    },
    {
      "cell_type": "code",
      "execution_count": null,
      "metadata": {},
      "outputs": [],
      "source": []
    },
    {
      "cell_type": "code",
      "execution_count": null,
      "metadata": {
        "colab": {
          "base_uri": "https://localhost:8080/",
          "height": 1000
        },
        "id": "vAvL9gJ2vP1r",
        "outputId": "8be86582-9805-4289-d091-1c33c684e8b7"
      },
      "outputs": [],
      "source": [
        "from kartAI.kartai.tools.create_training_data import create_training_data\n",
        "\n",
        "create_training_data(training_dataset_name=\"test\", config_file_path=\"kartAI/config/dataset/bygg.json\", eager_load=True,\n",
        "                         confidence_threshold=None, eval_model_checkpoint=None,\n",
        "                         region=None, x_min=618296.0, x_max=621495.0, y_min=6668145.0, y_max=6670133.0,\n",
        "                         num_processes=None)"
      ]
    },
    {
      "cell_type": "code",
      "execution_count": null,
      "metadata": {},
      "outputs": [],
      "source": [
        "import folium\n",
        "import rasterio\n",
        "import os\n",
        "\n",
        "from pyproj import CRS\n",
        "from pyproj import Transformer\n",
        "\n",
        "path_to_dir = \"/content/training_data/OrtofotoWMS/25832_563000.0_6623000.0_100.0_100.0/512/\"\n",
        "files = os.listdir(path_to_dir)\n",
        "files.sort()\n",
        "\n",
        "crs_25832 = CRS.from_epsg(25832)\n",
        "crs_4326 = CRS.from_epsg(4326)\n",
        "transformer = Transformer.from_crs(crs_25832, crs_4326)\n",
        "\n",
        "fig = folium.Figure(width=800, height=400)\n",
        "m = folium.Map(location=transformer.transform(618200.0, 6669700), zoom_start=14)\n",
        "\n",
        "for i in range(5):\n",
        "    with rasterio.open(f\"{path_to_dir}{files[i]}\") as src:\n",
        "        img = src.read()\n",
        "        transformed_bottom_left = transformer.transform(src.bounds.left, src.bounds.bottom)\n",
        "        transformed_top_right = transformer.transform(src.bounds.right, src.bounds.top)\n",
        "    m.add_child(folium.raster_layers.ImageOverlay(img.transpose(1, 2, 0), bounds = [transformed_bottom_left, transformed_top_right]))\n",
        "\n",
        "fig.add_child(m)"
      ]
    },
    {
      "cell_type": "markdown",
      "metadata": {},
      "source": [
        "# Task 2 - Train a machine learning model"
      ]
    },
    {
      "cell_type": "code",
      "execution_count": null,
      "metadata": {
        "colab": {
          "base_uri": "https://localhost:8080/"
        },
        "id": "s07L5WvTJhLz",
        "outputId": "1b2ba046-e93b-4ec3-ca36-36bd2bc5eba6"
      },
      "outputs": [],
      "source": [
        "from kartAI.kartai.tools.train import train\n",
        "\n",
        "train_args = {\n",
        "        \"features\": 8,\n",
        "        \"depth\": 1,\n",
        "        \"optimizer\": \"RMSprop\",\n",
        "        \"batch_size\": 8,\n",
        "        \"model\": \"unet\",\n",
        "        \"loss\": \"binary_crossentropy\",\n",
        "        \"activation\": \"relu\",\n",
        "        \"epochs\": 1\n",
        "}\n",
        "\n",
        "\n",
        "train(checkpoint_name=\"some_checkpoint\",\n",
        "      dataset_name=[\"test\"],\n",
        "      input_generator_config_path=\"kartAI/config/ml_input_generator/ortofoto.json\",\n",
        "      save_model=False,\n",
        "      train_args=train_args,\n",
        "      checkpoint_to_finetune=False\n",
        ")\n"
      ]
    },
    {
      "cell_type": "markdown",
      "metadata": {},
      "source": [
        "# Task 3 - Evaluation and Inference"
      ]
    },
    {
      "cell_type": "code",
      "execution_count": null,
      "metadata": {
        "colab": {
          "background_save": true,
          "base_uri": "https://localhost:8080/"
        },
        "id": "3_aMcP6Njm3d",
        "outputId": "0874bd77-9ad4-4be9-b4ab-a5925bfd5593"
      },
      "outputs": [],
      "source": [
        "import os\n",
        "import json\n",
        "from kartAI.env import get_env_variable\n",
        "from kartAI.kartai.tools.predict import predict_and_evaluate\n",
        "\n",
        "created_datasets_dir = os.path.join(get_env_variable(\n",
        "    'created_datasets_directory'), \"test\")\n",
        "\n",
        "checkpoint_path = os.path.join(get_env_variable(\n",
        "    'trained_models_directory'), 'some_checkpoint.h5')\n",
        "\n",
        "with open(\"kartAI/config/ml_input_generator/ortofoto.json\", encoding=\"utf8\") as config:\n",
        "    datagenerator_config = json.load(config)\n",
        "\n",
        "predict_and_evaluate(\n",
        "    created_datasets_dir,\n",
        "    datagenerator_config,\n",
        "    \"some_checkpoint\",\n",
        "    True,\n",
        "    True\n",
        ")"
      ]
    },
    {
      "cell_type": "code",
      "execution_count": null,
      "metadata": {},
      "outputs": [],
      "source": [
        "from kartAI.kartai.dataset.create_building_dataset import produce_vector_buildings, run_ml_predictions\n",
        "from kartAI.kartai.utils.config_utils import read_config\n",
        "from kartAI.kartai.utils.crs_utils import get_projection_from_config_path\n",
        "from kartAI.kartai.utils.geometry_utils import parse_region_arg\n",
        "from kartAI.kartai.utils.prediction_utils import get_raster_predictions_dir, get_vector_predictions_dir\n",
        "from kartAI.kartai.utils.train_utils import get_existing_model_names\n",
        "\n",
        "geom = parse_region_arg(\"kartAI/training_data/regions/small_test_region.json\")\n",
        "\n",
        "projection = get_projection_from_config_path(\"kartAI/config/dataset/bygg.json\")\n",
        "\n",
        "config = read_config(\"kartAI/config/dataset/bygg.json\")\n",
        "\n",
        "run_ml_predictions(\"some_checkpoint\", \"small_test_region\", projection,\n",
        "                    config=config, geom=geom, batch_size=200, skip_data_fetching=False,\n",
        "                    save_to=\"local\", num_processes=1)\n",
        "\n",
        "vector_output_dir = get_vector_predictions_dir(\n",
        "    \"small_test_region\", \"some_checkpoint\")\n",
        "raster_predictions_path = get_raster_predictions_dir(\n",
        "    \"small_test_region\", \"some_checkpoint\")\n",
        "\n",
        "produce_vector_buildings(\n",
        "    vector_output_dir, raster_predictions_path, config, 200, \"small_test_region_some_checkpoint\", save_to=\"local\")"
      ]
    },
    {
      "cell_type": "code",
      "execution_count": null,
      "metadata": {},
      "outputs": [],
      "source": [
        "# Polygon\n",
        "import folium\n",
        "import geopandas as gp\n",
        "\n",
        "data_25832 = gp.read_file(\"results/small_test_region/some_checkpoint/vector/raw_predictions_0.json\")\n",
        "data_4326 = data_25832.to_crs(4326)\n",
        "\n",
        "print(data_4326.crs)\n",
        "print(data_4326)\n",
        "\n",
        "fig = folium.Figure(width=800, height=400)\n",
        "map = folium.Map(location=transformer.transform(618200.0, 6669700), zoom_start=14)\n",
        "folium.GeoJson(data=data_4326[\"geometry\"]).add_to(map)\n",
        "fig.add_child(map)"
      ]
    },
    {
      "cell_type": "code",
      "execution_count": null,
      "metadata": {},
      "outputs": [],
      "source": [
        "from kartAI.kartai.dataset.create_building_dataset import run_ml_predictions\n",
        "from kartAI.kartai.tools.predict import create_contour_result\n",
        "from kartAI.kartai.utils.config_utils import read_config\n",
        "from kartAI.kartai.utils.crs_utils import get_projection_from_config_path\n",
        "from kartAI.kartai.utils.geometry_utils import parse_region_arg\n",
        "from kartAI.kartai.utils.prediction_utils import get_contour_predictions_dir, get_raster_predictions_dir\n",
        "from kartAI.kartai.utils.train_utils import get_existing_model_names\n",
        "\n",
        "geom = parse_region_arg(\"kartAI/training_data/regions/small_test_region.json\")\n",
        "\n",
        "projection = get_projection_from_config_path(\"kartAI/config/dataset/bygg.json\")\n",
        "\n",
        "config = read_config(\"kartAI/config/dataset/bygg.json\")\n",
        "\n",
        "run_ml_predictions(\"some_checkpoint\", \"small_test_region\", projection,\n",
        "                    config=config, geom=geom, batch_size=200, skip_data_fetching=False,\n",
        "                    save_to=\"local\", num_processes=1)\n",
        "\n",
        "raster_output_dir = get_raster_predictions_dir(\n",
        "    \"small_test_region\", \"some_checkpoint\")\n",
        "contour_output_dir = get_contour_predictions_dir(\n",
        "    \"small_test_region\", \"some_checkpoint\")\n",
        "\n",
        "print(\"---> Creating contour dataset from rasters\")\n",
        "contour_levels = [0.3, 0.4, 0.5, 0.6, 0.8, 0.9, 1]\n",
        "create_contour_result(\n",
        "    raster_output_dir, contour_output_dir, projection, contour_levels)\n",
        "\n",
        "print(\"==== Contour dataset created ====\")\n"
      ]
    },
    {
      "cell_type": "code",
      "execution_count": null,
      "metadata": {},
      "outputs": [],
      "source": [
        "# Contour\n",
        "import folium\n",
        "import geopandas as gp\n",
        "\n",
        "data_25832 = gp.read_file(\"results/small_test_region/some_checkpoint/contour/complete_contour.json\")\n",
        "data_4326 = data_25832.to_crs(4326)\n",
        "\n",
        "print(data_4326.crs)\n",
        "print(data_4326)\n",
        "\n",
        "fig = folium.Figure(width=800, height=400)\n",
        "map = folium.Map(location=transformer.transform(618200.0, 6669700), zoom_start=14)\n",
        "folium.GeoJson(data=data_4326[\"geometry\"]).add_to(map)\n",
        "fig.add_child(map)"
      ]
    }
  ],
  "metadata": {
    "colab": {
      "provenance": []
    },
    "kernelspec": {
      "display_name": "Python 3",
      "language": "python",
      "name": "python3"
    },
    "language_info": {
      "codemirror_mode": {
        "name": "ipython",
        "version": 3
      },
      "file_extension": ".py",
      "mimetype": "text/x-python",
      "name": "python",
      "nbconvert_exporter": "python",
      "pygments_lexer": "ipython3",
      "version": "3.9.17"
    }
  },
  "nbformat": 4,
  "nbformat_minor": 0
}
