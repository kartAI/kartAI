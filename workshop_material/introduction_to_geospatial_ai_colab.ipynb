{
  "cells": [
    {
      "cell_type": "markdown",
      "metadata": {
        "id": "emBCk06ovP1q"
      },
      "source": [
        "# Introduction to Geospatial AI"
      ]
    },
    {
      "cell_type": "markdown",
      "metadata": {},
      "source": [
        "# Intro\n",
        "Welcome to this workship about geospatial AI! In this workshop you will try to detect buildings from aerial images. This is done in three steps;\n",
        "\n",
        "1. Creating training data.\n",
        "2. Training machine learning models using data from step 1.\n",
        "3. Evaluating the trained models and predicting where buildings are in images the models haven't seen before. \n",
        "\n",
        "We will be using jupyter notebooks with Google Colab, but you don't need to have any experience with these in order to complete this workshop."
      ]
    },
    {
      "cell_type": "markdown",
      "metadata": {},
      "source": [
        "# Task 0 - Setup\n",
        "\n",
        "But first, before we can do any of the fun stuff, we need to set up the environment properly. In order to do that follow the steps under;\n",
        "\n",
        "1. Create a Google account, for instance by creating a gmail account. Can be skipped if you already have a gmail account. Log into the account in your browser.\n",
        "2. Head over to https://colab.research.google.com/ and press on the `Github` tab. Search for `kartAI` user and select `kartAI/kartAI` repository. A notebook should appear. Press on this notebook and it should open a notebook in another tab.\n",
        "3. Create a copy of the notebook in your drive by saving it. Shortcut is `Ctrl + s` on Windows or `Cmd + s` on Mac.\n",
        "4. Change to a GPU runtime environment. In the top right corner choose `Change runtime type` and select `T4 GPU`.\n",
        "5. Insert secrets. # TODO: Mayhaps\n",
        "\n",
        "Nice! What's left now is to clone the git repo we are working with and adding it to the path in addition to installing some dependencies. To do this simply run the two cells below."
      ]
    },
    {
      "cell_type": "code",
      "execution_count": null,
      "metadata": {
        "colab": {
          "base_uri": "https://localhost:8080/"
        },
        "id": "3fEENVoCvP1q",
        "outputId": "32b51360-456b-468f-de33-dc6c26a0eb55"
      },
      "outputs": [],
      "source": [
        "!git clone https://github.com/kartAI/kartAI.git\n",
        "\n",
        "!pip install focal_loss\n",
        "!pip install azure-storage-blob\n",
        "!pip install rasterio\n",
        "!pip install rasterstats"
      ]
    },
    {
      "cell_type": "code",
      "execution_count": null,
      "metadata": {
        "id": "LDdbVLf5vP1r"
      },
      "outputs": [],
      "source": [
        "import sys\n",
        "sys.path.insert(0,'/content/kartAI')"
      ]
    },
    {
      "cell_type": "markdown",
      "metadata": {},
      "source": [
        "# Task 1 - Training Data\n",
        "In the first task we create the training data. This is done by selecting an area you want to train on, then download aerial photos in addition to data about all the existing buildings in the chosen area. \n",
        "\n",
        "In the next cell, choose which area you want to train from. There is 3 areas you can choose from. You can also define your own area. Head over to https://geojson.io/ to find coordinates and train your model on your custom area. NB!! We dont have a dataset over all of norway, so you might have missing data if you chose an area that's not covered."
      ]
    },
    {
      "cell_type": "code",
      "execution_count": null,
      "metadata": {},
      "outputs": [],
      "source": [
        "# TODO: MALTE Set correct coordinates for the other areas\n",
        "\n",
        "area = { \"x_min\": 618296.0, \"x_max\": 621495.0, \"y_min\": 6668145.0, \"y_max\": 6670133.0 }\n",
        "# area = { \"x_min\": 618296.0, \"x_max\": 621495.0, \"y_min\": 6668145.0, \"y_max\": 6670133.0 }\n",
        "# area = { \"x_min\": 618296.0, \"x_max\": 621495.0, \"y_min\": 6668145.0, \"y_max\": 6670133.0 }"
      ]
    },
    {
      "cell_type": "markdown",
      "metadata": {},
      "source": [
        "# Task 1 - Training Data\n",
        "When you have chosen the area you can run the cell after in order to create the training data. The training data is downloaded as rasters (images) and split into a training, validation and test set. The model will train on the training set, and while training run tests on the validation set. After the training is finished it will run tests on the tests set - data the model have never seen before.\n",
        "\n",
        "While downloading the rasters, it will say how many rasters total it will download. The training data download is quite time consuming, so if you make a custom area, make sure it downloads about ~700 rasters."
      ]
    },
    {
      "cell_type": "code",
      "execution_count": null,
      "metadata": {
        "colab": {
          "base_uri": "https://localhost:8080/",
          "height": 1000
        },
        "id": "vAvL9gJ2vP1r",
        "outputId": "8be86582-9805-4289-d091-1c33c684e8b7"
      },
      "outputs": [],
      "source": [
        "from kartAI.kartai.tools.create_training_data import create_training_data\n",
        "\n",
        "create_training_data(\n",
        "    training_dataset_name=\"test\", \n",
        "    config_file_path=\"kartAI/config/dataset/bygg.json\", \n",
        "    eager_load=True,\n",
        "    confidence_threshold=None, \n",
        "    eval_model_checkpoint=None,\n",
        "    region=None, \n",
        "    x_min=area[\"x_min\"], \n",
        "    x_max=area[\"x_max\"], \n",
        "    y_min=area[\"y_min\"], \n",
        "    y_max=area[\"y_max\"],\n",
        "    num_processes=None                 \n",
        ")"
      ]
    },
    {
      "cell_type": "markdown",
      "metadata": {},
      "source": [
        "# Task 1 - Training Data\n",
        "After downloading the data you can visualize it in the next cell. Make sure the path to the training data is correct, and setting the correct coordinates for the starting view in the map also helps you see the data faster."
      ]
    },
    {
      "cell_type": "code",
      "execution_count": null,
      "metadata": {},
      "outputs": [],
      "source": [
        "import folium\n",
        "import rasterio\n",
        "import os\n",
        "\n",
        "from pyproj import CRS, Transformer\n",
        "\n",
        "path_to_dir = \"/content/training_data/OrtofotoWMS/25832_563000.0_6623000.0_100.0_100.0/512/\" # TODO: Insert correct path to the training data.\n",
        "files = os.listdir(path_to_dir)\n",
        "files.sort()\n",
        "\n",
        "crs_25832 = CRS.from_epsg(25832)\n",
        "crs_4326 = CRS.from_epsg(4326)\n",
        "transformer = Transformer.from_crs(crs_25832, crs_4326)\n",
        "\n",
        "fig = folium.Figure(width=800, height=400)\n",
        "m = folium.Map(\n",
        "    location=transformer.transform(618200.0, 6669700), # TODO: Insert the correct coordinates for the starting view of the map.\n",
        "    zoom_start=14\n",
        ")\n",
        "\n",
        "for i in range(5):\n",
        "    with rasterio.open(f\"{path_to_dir}{files[i]}\") as src:\n",
        "        img = src.read()\n",
        "        transformed_bottom_left = transformer.transform(src.bounds.left, src.bounds.bottom)\n",
        "        transformed_top_right = transformer.transform(src.bounds.right, src.bounds.top)\n",
        "    m.add_child(folium.raster_layers.ImageOverlay(img.transpose(1, 2, 0), bounds = [transformed_bottom_left, transformed_top_right]))\n",
        "\n",
        "fig.add_child(m)"
      ]
    },
    {
      "cell_type": "markdown",
      "metadata": {},
      "source": [
        "# Task 2 - Machine Learning Model\n",
        "After creating and visualizing the training data we are ready to train our model! We won't go into too much details about machine learning theory, but if you are familiar you can experiment a bit. The default configuration should get you a decent model though.\n",
        "\n",
        "In the next cell you can tweak some hyperparameters, but make sure the training doesn't take too long. The default configuration should take about ~15 minutes to execute.\n",
        "\n",
        "While training some statistics about the training is showing. They can be a little bit confusing, so it's not  These are;\n",
        "\n",
        " - Loss: A measurement of how wrong the model is. The lower the loss is, the better. If the loss is 0, the model is \"perfect\". A model tries to minimize this value.\n",
        " - Binary Accuracy: A measurement of how many of the predicted pixels are inside a building. It's a number between 0 and 1, where higher is better. 1 means all the pixels the model says are within a building is actually within a building. But keep in mind even if the number is 1, the model might not have made predictions for all pixels in all buildings...\n",
        " - IoU: Intersection over Union. A measurement of how much of the estimated area overlaps with a building. It's a number between 0 and 1, where higher is better. 1 means the model is fitting the bounding box of all buildings \"perfectly\".\n",
        " - IoU_fz: \n",
        " - IoU_point_[5-9]: \n",
        " - val_x: The validation equivalent of whatever x is. X could be loss, IoU, etc."
      ]
    },
    {
      "cell_type": "code",
      "execution_count": null,
      "metadata": {
        "colab": {
          "base_uri": "https://localhost:8080/"
        },
        "id": "s07L5WvTJhLz",
        "outputId": "1b2ba046-e93b-4ec3-ca36-36bd2bc5eba6"
      },
      "outputs": [],
      "source": [
        "from kartAI.kartai.tools.train import train\n",
        "\n",
        "train_args = {\n",
        "      \"features\": 32,\n",
        "      \"depth\": 4,\n",
        "      \"optimizer\": \"RMSprop\",\n",
        "      \"batch_size\": 8,\n",
        "      \"model\": \"unet\",\n",
        "      \"loss\": \"binary_crossentropy\",\n",
        "      \"activation\": \"relu\",\n",
        "      \"epochs\": 20\n",
        "}\n",
        "\n",
        "\n",
        "train(\n",
        "      checkpoint_name=\"some_checkpoint\",\n",
        "      dataset_name=[\"test\"],\n",
        "      input_generator_config_path=\"kartAI/config/ml_input_generator/ortofoto.json\",\n",
        "      save_model=False,\n",
        "      train_args=train_args,\n",
        "      checkpoint_to_finetune=False\n",
        ")\n"
      ]
    },
    {
      "cell_type": "markdown",
      "metadata": {},
      "source": [
        "# Task 3 - Evaluation and Inference\n",
        "For the last part we will use our trained machine learning model and try to find buildings in a new set of images we haven't seen so far. The next cell runs predictions on the test portion of the downloaded training data - which is data the model is not trained on. Some stats from the predictions will show up;\n",
        "\n"
      ]
    },
    {
      "cell_type": "code",
      "execution_count": null,
      "metadata": {
        "colab": {
          "background_save": true,
          "base_uri": "https://localhost:8080/"
        },
        "id": "3_aMcP6Njm3d",
        "outputId": "0874bd77-9ad4-4be9-b4ab-a5925bfd5593"
      },
      "outputs": [],
      "source": [
        "# TODO: Skal vi ha med dette?\n",
        "\n",
        "import os\n",
        "import json\n",
        "from kartAI.env import get_env_variable\n",
        "from kartAI.kartai.tools.predict import predict_and_evaluate\n",
        "\n",
        "created_datasets_dir = os.path.join(get_env_variable(\n",
        "    'created_datasets_directory'), \"test\")\n",
        "\n",
        "checkpoint_path = os.path.join(get_env_variable(\n",
        "    'trained_models_directory'), 'some_checkpoint.h5')\n",
        "\n",
        "with open(\"kartAI/config/ml_input_generator/ortofoto.json\", encoding=\"utf8\") as config:\n",
        "    datagenerator_config = json.load(config)\n",
        "\n",
        "predict_and_evaluate(\n",
        "    created_datasets_dir,\n",
        "    datagenerator_config,\n",
        "    \"some_checkpoint\",\n",
        "    True,\n",
        "    True\n",
        ")"
      ]
    },
    {
      "cell_type": "markdown",
      "metadata": {},
      "source": [
        "# Task 3 - Evaluation and Inference\n",
        "For the last part we will use our trained machine learning model and try to find buildings in a new set of images we haven't seen so far. The next cell runs predictions on "
      ]
    },
    {
      "cell_type": "code",
      "execution_count": null,
      "metadata": {},
      "outputs": [],
      "source": [
        "from kartAI.kartai.dataset.create_building_dataset import produce_vector_buildings, run_ml_predictions\n",
        "from kartAI.kartai.utils.config_utils import read_config\n",
        "from kartAI.kartai.utils.crs_utils import get_projection_from_config_path\n",
        "from kartAI.kartai.utils.geometry_utils import parse_region_arg\n",
        "from kartAI.kartai.utils.prediction_utils import get_raster_predictions_dir, get_vector_predictions_dir\n",
        "\n",
        "geom = parse_region_arg(\"kartAI/training_data/regions/small_test_region.json\")\n",
        "\n",
        "projection = get_projection_from_config_path(\"kartAI/config/dataset/bygg.json\")\n",
        "\n",
        "config = read_config(\"kartAI/config/dataset/bygg.json\")\n",
        "\n",
        "run_ml_predictions(\n",
        "    \"some_checkpoint\", \n",
        "    \"small_test_region\", \n",
        "    projection,\n",
        "    config=config, \n",
        "    geom=geom, \n",
        "    batch_size=200, \n",
        "    skip_data_fetching=False,\n",
        "    save_to=\"local\", \n",
        "    num_processes=1\n",
        ")\n",
        "\n",
        "vector_output_dir = get_vector_predictions_dir(\"small_test_region\", \"some_checkpoint\")\n",
        "raster_predictions_path = get_raster_predictions_dir(\"small_test_region\", \"some_checkpoint\")\n",
        "\n",
        "produce_vector_buildings(\n",
        "    vector_output_dir, \n",
        "    raster_predictions_path, \n",
        "    config, \n",
        "    200, \n",
        "    \"small_test_region_some_checkpoint\", \n",
        "    save_to=\"local\"\n",
        ")"
      ]
    },
    {
      "cell_type": "code",
      "execution_count": null,
      "metadata": {},
      "outputs": [],
      "source": [
        "import folium\n",
        "import geopandas as gp\n",
        "\n",
        "polygon_25832 = gp.read_file(\"results/small_test_region/some_checkpoint/vector/raw_predictions_0.json\")\n",
        "polygon_4326 = polygon_25832.to_crs(4326)\n",
        "\n",
        "fig = folium.Figure(width=800, height=400)\n",
        "map = folium.Map(location=transformer.transform(618200.0, 6669700), zoom_start=14)\n",
        "folium.GeoJson(data=polygon_4326[\"geometry\"]).add_to(map)\n",
        "fig.add_child(map)"
      ]
    },
    {
      "cell_type": "code",
      "execution_count": null,
      "metadata": {},
      "outputs": [],
      "source": [
        "from kartAI.kartai.dataset.create_building_dataset import run_ml_predictions\n",
        "from kartAI.kartai.tools.predict import create_contour_result\n",
        "from kartAI.kartai.utils.config_utils import read_config\n",
        "from kartAI.kartai.utils.crs_utils import get_projection_from_config_path\n",
        "from kartAI.kartai.utils.geometry_utils import parse_region_arg\n",
        "from kartAI.kartai.utils.prediction_utils import get_contour_predictions_dir, get_raster_predictions_dir\n",
        "\n",
        "geom = parse_region_arg(\"kartAI/training_data/regions/small_test_region.json\")\n",
        "\n",
        "projection = get_projection_from_config_path(\"kartAI/config/dataset/bygg.json\")\n",
        "\n",
        "config = read_config(\"kartAI/config/dataset/bygg.json\")\n",
        "\n",
        "run_ml_predictions(\n",
        "    \"some_checkpoint\", \n",
        "    \"small_test_region\", \n",
        "    projection,\n",
        "    config=config, \n",
        "    geom=geom, \n",
        "    batch_size=200, \n",
        "    skip_data_fetching=False,\n",
        "    save_to=\"local\", \n",
        "    num_processes=1\n",
        ")\n",
        "\n",
        "raster_output_dir = get_raster_predictions_dir(\"small_test_region\", \"some_checkpoint\")\n",
        "contour_output_dir = get_contour_predictions_dir(\"small_test_region\", \"some_checkpoint\")\n",
        "\n",
        "print(\"---> Creating contour dataset from rasters\")\n",
        "\n",
        "contour_levels = [0.3, 0.4, 0.5, 0.6, 0.8, 0.9, 1]\n",
        "create_contour_result(raster_output_dir, contour_output_dir, projection, contour_levels)\n",
        "\n",
        "print(\"==== Contour dataset created ====\")\n"
      ]
    },
    {
      "cell_type": "code",
      "execution_count": null,
      "metadata": {},
      "outputs": [],
      "source": [
        "import folium\n",
        "import geopandas as gp\n",
        "\n",
        "# NB!!! If you look at more than ~5000 LineStrings, the map might crash.\n",
        "contour_25832 = gp.read_file(\"results/small_test_region/some_checkpoint/contour/complete_contour.json\")\n",
        "contour_4326 = contour_25832.to_crs(4326)[0:2500]\n",
        "\n",
        "figure = folium.Figure(width=800, height=400)\n",
        "map = folium.Map(location=transformer.transform(618200.0, 6669700), zoom_start=14)\n",
        "folium.GeoJson(data=contour_4326[\"geometry\"]).add_to(map)\n",
        "figure.add_child(map)"
      ]
    }
  ],
  "metadata": {
    "colab": {
      "provenance": []
    },
    "kernelspec": {
      "display_name": "Python 3",
      "language": "python",
      "name": "python3"
    },
    "language_info": {
      "codemirror_mode": {
        "name": "ipython",
        "version": 3
      },
      "file_extension": ".py",
      "mimetype": "text/x-python",
      "name": "python",
      "nbconvert_exporter": "python",
      "pygments_lexer": "ipython3",
      "version": "3.9.17"
    }
  },
  "nbformat": 4,
  "nbformat_minor": 0
}
